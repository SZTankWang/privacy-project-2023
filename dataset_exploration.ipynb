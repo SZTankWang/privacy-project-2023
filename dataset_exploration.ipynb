{
 "cells": [
  {
   "cell_type": "code",
   "execution_count": 1,
   "metadata": {
    "collapsed": true
   },
   "outputs": [],
   "source": [
    "\n",
    "import pandas as pd\n",
    "import numpy as np"
   ]
  },
  {
   "cell_type": "code",
   "execution_count": 4,
   "outputs": [],
   "source": [
    "from data import parse_har_file, query_counts_to_csv"
   ],
   "metadata": {
    "collapsed": false
   }
  },
  {
   "cell_type": "code",
   "execution_count": 5,
   "outputs": [],
   "source": [
    "df = parse_har_file('tiktok.har')"
   ],
   "metadata": {
    "collapsed": false
   }
  },
  {
   "cell_type": "code",
   "execution_count": 6,
   "outputs": [],
   "source": [
    "unique_col = []\n",
    "for col in df:\n",
    "   unique_col.append(df[col].unique())\n",
    "\n",
    "unique_df = pd.DataFrame(data=unique_col)"
   ],
   "metadata": {
    "collapsed": false
   }
  },
  {
   "cell_type": "code",
   "execution_count": 11,
   "outputs": [
    {
     "data": {
      "text/plain": "   methods                                        urls     ip address\n0     POST  https://mon.us.tiktokv.com/monitor_browser   146.75.82.73\n1  OPTIONS  https://mon.us.tiktokv.com/monitor_browser   146.75.82.73\n2     POST  https://mon.us.tiktokv.com/monitor_browser   146.75.82.73\n3     POST             https://mssdk.us.tiktok.com/web  130.35.210.46\n4     POST  https://mon.us.tiktokv.com/monitor_browser   146.75.82.73",
      "text/html": "<div>\n<style scoped>\n    .dataframe tbody tr th:only-of-type {\n        vertical-align: middle;\n    }\n\n    .dataframe tbody tr th {\n        vertical-align: top;\n    }\n\n    .dataframe thead th {\n        text-align: right;\n    }\n</style>\n<table border=\"1\" class=\"dataframe\">\n  <thead>\n    <tr style=\"text-align: right;\">\n      <th></th>\n      <th>methods</th>\n      <th>urls</th>\n      <th>ip address</th>\n    </tr>\n  </thead>\n  <tbody>\n    <tr>\n      <th>0</th>\n      <td>POST</td>\n      <td>https://mon.us.tiktokv.com/monitor_browser</td>\n      <td>146.75.82.73</td>\n    </tr>\n    <tr>\n      <th>1</th>\n      <td>OPTIONS</td>\n      <td>https://mon.us.tiktokv.com/monitor_browser</td>\n      <td>146.75.82.73</td>\n    </tr>\n    <tr>\n      <th>2</th>\n      <td>POST</td>\n      <td>https://mon.us.tiktokv.com/monitor_browser</td>\n      <td>146.75.82.73</td>\n    </tr>\n    <tr>\n      <th>3</th>\n      <td>POST</td>\n      <td>https://mssdk.us.tiktok.com/web</td>\n      <td>130.35.210.46</td>\n    </tr>\n    <tr>\n      <th>4</th>\n      <td>POST</td>\n      <td>https://mon.us.tiktokv.com/monitor_browser</td>\n      <td>146.75.82.73</td>\n    </tr>\n  </tbody>\n</table>\n</div>"
     },
     "execution_count": 11,
     "metadata": {},
     "output_type": "execute_result"
    }
   ],
   "source": [
    "df.head()"
   ],
   "metadata": {
    "collapsed": false
   }
  },
  {
   "cell_type": "code",
   "execution_count": 14,
   "outputs": [
    {
     "data": {
      "text/plain": "                                           0   \\\n0                                        POST   \n1  https://mon.us.tiktokv.com/monitor_browser   \n2                                146.75.82.73   \n\n                                1   \\\n0                          OPTIONS   \n1  https://mssdk.us.tiktok.com/web   \n2                    130.35.210.46   \n\n                                             2   \\\n0                                           GET   \n1  https://v16-webapp-prime.us.tiktok.com/video   \n2                                  23.55.220.42   \n\n                                        3                             4   \\\n0                                     None                          None   \n1  https://p16-sign-sg.tiktokcdn.com/aweme  https://mcs.us.tiktok.com/v1   \n2                                                          23.55.221.218   \n\n                            5                                             6   \\\n0                         None                                          None   \n1  https://us.tiktok.com/whale  https://lf16-tiktok-web.tiktokcdn-us.com/obj   \n2                130.35.87.129                                  23.56.168.42   \n\n                           7                          8   \\\n0                        None                       None   \n1  https://us.tiktok.com/node  https://us.tiktok.com/api   \n2               23.55.221.211               23.48.94.171   \n\n                                                  9   ...  \\\n0                                               None  ...   \n1  https://p16-sign.tiktokcdn-us.com/tos-useast5-...  ...   \n2                                     156.146.59.203  ...   \n\n                                                  17  \\\n0                                               None   \n1  https://p77-sign-va.tiktokcdn.com/musically-ma...   \n2                                     104.123.153.19   \n\n                                                  18  \\\n0                                               None   \n1  https://p19-sign.tiktokcdn-us.com/tos-useast5-...   \n2                                      23.55.221.225   \n\n                                 19                                    20  \\\n0                              None                                  None   \n1  https://www.tiktok.com/vBhfg8S94  https://p16-amd-va.tiktokcdn.com/obj   \n2                     23.55.221.217                         23.55.221.203   \n\n                                                  21  \\\n0                                               None   \n1  https://p16-sign-sg.tiktokcdn.com/tos-alisg-p-...   \n2                                       23.55.220.35   \n\n                                                  22  \\\n0                                               None   \n1  https://p16-sign-va.tiktokcdn.com/tos-useast2a...   \n2                                      23.55.221.201   \n\n                                          23  \\\n0                                       None   \n1  https://lf16-tiktok-web.ttwstatic.com/obj   \n2                              23.55.221.219   \n\n                                                  24  \\\n0                                               None   \n1  https://p16-sign-va.tiktokcdn.com/tos-useast2a...   \n2                                        23.35.70.73   \n\n                                           25  \\\n0                                        None   \n1  https://sf16-passport-va.ibytedtos.com/img   \n2                                        None   \n\n                                  26  \n0                               None  \n1  https://us.tiktok.com/node-webapp  \n2                               None  \n\n[3 rows x 27 columns]",
      "text/html": "<div>\n<style scoped>\n    .dataframe tbody tr th:only-of-type {\n        vertical-align: middle;\n    }\n\n    .dataframe tbody tr th {\n        vertical-align: top;\n    }\n\n    .dataframe thead th {\n        text-align: right;\n    }\n</style>\n<table border=\"1\" class=\"dataframe\">\n  <thead>\n    <tr style=\"text-align: right;\">\n      <th></th>\n      <th>0</th>\n      <th>1</th>\n      <th>2</th>\n      <th>3</th>\n      <th>4</th>\n      <th>5</th>\n      <th>6</th>\n      <th>7</th>\n      <th>8</th>\n      <th>9</th>\n      <th>...</th>\n      <th>17</th>\n      <th>18</th>\n      <th>19</th>\n      <th>20</th>\n      <th>21</th>\n      <th>22</th>\n      <th>23</th>\n      <th>24</th>\n      <th>25</th>\n      <th>26</th>\n    </tr>\n  </thead>\n  <tbody>\n    <tr>\n      <th>0</th>\n      <td>POST</td>\n      <td>OPTIONS</td>\n      <td>GET</td>\n      <td>None</td>\n      <td>None</td>\n      <td>None</td>\n      <td>None</td>\n      <td>None</td>\n      <td>None</td>\n      <td>None</td>\n      <td>...</td>\n      <td>None</td>\n      <td>None</td>\n      <td>None</td>\n      <td>None</td>\n      <td>None</td>\n      <td>None</td>\n      <td>None</td>\n      <td>None</td>\n      <td>None</td>\n      <td>None</td>\n    </tr>\n    <tr>\n      <th>1</th>\n      <td>https://mon.us.tiktokv.com/monitor_browser</td>\n      <td>https://mssdk.us.tiktok.com/web</td>\n      <td>https://v16-webapp-prime.us.tiktok.com/video</td>\n      <td>https://p16-sign-sg.tiktokcdn.com/aweme</td>\n      <td>https://mcs.us.tiktok.com/v1</td>\n      <td>https://us.tiktok.com/whale</td>\n      <td>https://lf16-tiktok-web.tiktokcdn-us.com/obj</td>\n      <td>https://us.tiktok.com/node</td>\n      <td>https://us.tiktok.com/api</td>\n      <td>https://p16-sign.tiktokcdn-us.com/tos-useast5-...</td>\n      <td>...</td>\n      <td>https://p77-sign-va.tiktokcdn.com/musically-ma...</td>\n      <td>https://p19-sign.tiktokcdn-us.com/tos-useast5-...</td>\n      <td>https://www.tiktok.com/vBhfg8S94</td>\n      <td>https://p16-amd-va.tiktokcdn.com/obj</td>\n      <td>https://p16-sign-sg.tiktokcdn.com/tos-alisg-p-...</td>\n      <td>https://p16-sign-va.tiktokcdn.com/tos-useast2a...</td>\n      <td>https://lf16-tiktok-web.ttwstatic.com/obj</td>\n      <td>https://p16-sign-va.tiktokcdn.com/tos-useast2a...</td>\n      <td>https://sf16-passport-va.ibytedtos.com/img</td>\n      <td>https://us.tiktok.com/node-webapp</td>\n    </tr>\n    <tr>\n      <th>2</th>\n      <td>146.75.82.73</td>\n      <td>130.35.210.46</td>\n      <td>23.55.220.42</td>\n      <td></td>\n      <td>23.55.221.218</td>\n      <td>130.35.87.129</td>\n      <td>23.56.168.42</td>\n      <td>23.55.221.211</td>\n      <td>23.48.94.171</td>\n      <td>156.146.59.203</td>\n      <td>...</td>\n      <td>104.123.153.19</td>\n      <td>23.55.221.225</td>\n      <td>23.55.221.217</td>\n      <td>23.55.221.203</td>\n      <td>23.55.220.35</td>\n      <td>23.55.221.201</td>\n      <td>23.55.221.219</td>\n      <td>23.35.70.73</td>\n      <td>None</td>\n      <td>None</td>\n    </tr>\n  </tbody>\n</table>\n<p>3 rows × 27 columns</p>\n</div>"
     },
     "execution_count": 14,
     "metadata": {},
     "output_type": "execute_result"
    }
   ],
   "source": [
    "unique_df"
   ],
   "metadata": {
    "collapsed": false
   }
  },
  {
   "cell_type": "code",
   "execution_count": null,
   "outputs": [],
   "source": [],
   "metadata": {
    "collapsed": false
   }
  }
 ],
 "metadata": {
  "kernelspec": {
   "display_name": "Python 3",
   "language": "python",
   "name": "python3"
  },
  "language_info": {
   "codemirror_mode": {
    "name": "ipython",
    "version": 2
   },
   "file_extension": ".py",
   "mimetype": "text/x-python",
   "name": "python",
   "nbconvert_exporter": "python",
   "pygments_lexer": "ipython2",
   "version": "2.7.6"
  }
 },
 "nbformat": 4,
 "nbformat_minor": 0
}
