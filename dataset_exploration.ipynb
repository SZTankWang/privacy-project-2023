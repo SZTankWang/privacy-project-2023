{
 "cells": [
  {
   "cell_type": "code",
   "execution_count": 1,
   "metadata": {
    "collapsed": true
   },
   "outputs": [],
   "source": [
    "\n",
    "import pandas as pd\n",
    "import numpy as np"
   ]
  },
  {
   "cell_type": "code",
   "execution_count": 2,
   "outputs": [],
   "source": [
    "from data import parse_har_file, query_counts_to_csv"
   ],
   "metadata": {
    "collapsed": false
   }
  },
  {
   "cell_type": "code",
   "execution_count": 3,
   "outputs": [],
   "source": [
    "df = parse_har_file('order.jd.com.har')"
   ],
   "metadata": {
    "collapsed": false
   }
  },
  {
   "cell_type": "code",
   "execution_count": 4,
   "outputs": [],
   "source": [
    "unique_col = []\n",
    "for col in df:\n",
    "   unique_col.append(df[col].unique())\n",
    "\n",
    "unique_df = pd.DataFrame(data=unique_col)"
   ],
   "metadata": {
    "collapsed": false
   }
  },
  {
   "cell_type": "code",
   "execution_count": 5,
   "outputs": [
    {
     "data": {
      "text/plain": "  methods                                urls       ip address\n0     GET         https://order.jd.com/center      23.56.99.80\n1     GET         https://misc.360buyimg.com/  157.185.170.144\n2     GET  https://storage.jd.com/retail-mall  157.185.179.142\n3     GET  https://storage.jd.com/retail-mall  157.185.179.142\n4     GET  https://storage.jd.com/retail-mall  157.185.179.142",
      "text/html": "<div>\n<style scoped>\n    .dataframe tbody tr th:only-of-type {\n        vertical-align: middle;\n    }\n\n    .dataframe tbody tr th {\n        vertical-align: top;\n    }\n\n    .dataframe thead th {\n        text-align: right;\n    }\n</style>\n<table border=\"1\" class=\"dataframe\">\n  <thead>\n    <tr style=\"text-align: right;\">\n      <th></th>\n      <th>methods</th>\n      <th>urls</th>\n      <th>ip address</th>\n    </tr>\n  </thead>\n  <tbody>\n    <tr>\n      <th>0</th>\n      <td>GET</td>\n      <td>https://order.jd.com/center</td>\n      <td>23.56.99.80</td>\n    </tr>\n    <tr>\n      <th>1</th>\n      <td>GET</td>\n      <td>https://misc.360buyimg.com/</td>\n      <td>157.185.170.144</td>\n    </tr>\n    <tr>\n      <th>2</th>\n      <td>GET</td>\n      <td>https://storage.jd.com/retail-mall</td>\n      <td>157.185.179.142</td>\n    </tr>\n    <tr>\n      <th>3</th>\n      <td>GET</td>\n      <td>https://storage.jd.com/retail-mall</td>\n      <td>157.185.179.142</td>\n    </tr>\n    <tr>\n      <th>4</th>\n      <td>GET</td>\n      <td>https://storage.jd.com/retail-mall</td>\n      <td>157.185.179.142</td>\n    </tr>\n  </tbody>\n</table>\n</div>"
     },
     "execution_count": 5,
     "metadata": {},
     "output_type": "execute_result"
    }
   ],
   "source": [
    "df.head()"
   ],
   "metadata": {
    "collapsed": false
   }
  },
  {
   "cell_type": "code",
   "execution_count": 6,
   "outputs": [
    {
     "data": {
      "text/plain": "                            0                            1   \\\n0                          GET                         POST   \n1  https://order.jd.com/center  https://misc.360buyimg.com/   \n2                  23.56.99.80              157.185.170.144   \n\n                                   2                               3   \\\n0                                None                            None   \n1  https://storage.jd.com/retail-mall  https://misc.360buyimg.com/jdf   \n2                     157.185.179.142       [2600:1407:1d::685b:a6a3]   \n\n                              4                                  5   \\\n0                           None                               None   \n1  https://h5static.m.jd.com/act  https://static.360buyimg.com/item   \n2       [2600:1407:21:296::11a6]        [2600:1407:a800::1737:dd9b]   \n\n                                  6                               7   \\\n0                               None                            None   \n1  https://misc.360buyimg.com/jd2008  https://misc.360buyimg.com/lib   \n2                     124.250.18.194                  202.77.129.166   \n\n                                  8                                9   ...  \\\n0                               None                             None  ...   \n1  https://h5static.jd.com/informant  https://misc.360buyimg.com/user  ...   \n2                    157.185.163.113                   202.77.129.232  ...   \n\n                       46                        47  \\\n0                    None                      None   \n1  https://gias.jd.com/js  https://awcas.jd.com/api   \n2                    None                      None   \n\n                            48                              49  \\\n0                         None                            None   \n1  https://h5speed.m.jd.com/v2  https://diviner.jd.com/diviner   \n2                         None                            None   \n\n                                50                              51  \\\n0                             None                            None   \n1  https://club.jd.com/clubservice  https://img10.360buyimg.com/n4   \n2                             None                            None   \n\n                               52                              53  \\\n0                            None                            None   \n1  https://img13.360buyimg.com/n4  https://img12.360buyimg.com/n4   \n2                            None                            None   \n\n                               54                              55  \n0                            None                            None  \n1  https://img11.360buyimg.com/n4  https://img14.360buyimg.com/n4  \n2                            None                            None  \n\n[3 rows x 56 columns]",
      "text/html": "<div>\n<style scoped>\n    .dataframe tbody tr th:only-of-type {\n        vertical-align: middle;\n    }\n\n    .dataframe tbody tr th {\n        vertical-align: top;\n    }\n\n    .dataframe thead th {\n        text-align: right;\n    }\n</style>\n<table border=\"1\" class=\"dataframe\">\n  <thead>\n    <tr style=\"text-align: right;\">\n      <th></th>\n      <th>0</th>\n      <th>1</th>\n      <th>2</th>\n      <th>3</th>\n      <th>4</th>\n      <th>5</th>\n      <th>6</th>\n      <th>7</th>\n      <th>8</th>\n      <th>9</th>\n      <th>...</th>\n      <th>46</th>\n      <th>47</th>\n      <th>48</th>\n      <th>49</th>\n      <th>50</th>\n      <th>51</th>\n      <th>52</th>\n      <th>53</th>\n      <th>54</th>\n      <th>55</th>\n    </tr>\n  </thead>\n  <tbody>\n    <tr>\n      <th>0</th>\n      <td>GET</td>\n      <td>POST</td>\n      <td>None</td>\n      <td>None</td>\n      <td>None</td>\n      <td>None</td>\n      <td>None</td>\n      <td>None</td>\n      <td>None</td>\n      <td>None</td>\n      <td>...</td>\n      <td>None</td>\n      <td>None</td>\n      <td>None</td>\n      <td>None</td>\n      <td>None</td>\n      <td>None</td>\n      <td>None</td>\n      <td>None</td>\n      <td>None</td>\n      <td>None</td>\n    </tr>\n    <tr>\n      <th>1</th>\n      <td>https://order.jd.com/center</td>\n      <td>https://misc.360buyimg.com/</td>\n      <td>https://storage.jd.com/retail-mall</td>\n      <td>https://misc.360buyimg.com/jdf</td>\n      <td>https://h5static.m.jd.com/act</td>\n      <td>https://static.360buyimg.com/item</td>\n      <td>https://misc.360buyimg.com/jd2008</td>\n      <td>https://misc.360buyimg.com/lib</td>\n      <td>https://h5static.jd.com/informant</td>\n      <td>https://misc.360buyimg.com/user</td>\n      <td>...</td>\n      <td>https://gias.jd.com/js</td>\n      <td>https://awcas.jd.com/api</td>\n      <td>https://h5speed.m.jd.com/v2</td>\n      <td>https://diviner.jd.com/diviner</td>\n      <td>https://club.jd.com/clubservice</td>\n      <td>https://img10.360buyimg.com/n4</td>\n      <td>https://img13.360buyimg.com/n4</td>\n      <td>https://img12.360buyimg.com/n4</td>\n      <td>https://img11.360buyimg.com/n4</td>\n      <td>https://img14.360buyimg.com/n4</td>\n    </tr>\n    <tr>\n      <th>2</th>\n      <td>23.56.99.80</td>\n      <td>157.185.170.144</td>\n      <td>157.185.179.142</td>\n      <td>[2600:1407:1d::685b:a6a3]</td>\n      <td>[2600:1407:21:296::11a6]</td>\n      <td>[2600:1407:a800::1737:dd9b]</td>\n      <td>124.250.18.194</td>\n      <td>202.77.129.166</td>\n      <td>157.185.163.113</td>\n      <td>202.77.129.232</td>\n      <td>...</td>\n      <td>None</td>\n      <td>None</td>\n      <td>None</td>\n      <td>None</td>\n      <td>None</td>\n      <td>None</td>\n      <td>None</td>\n      <td>None</td>\n      <td>None</td>\n      <td>None</td>\n    </tr>\n  </tbody>\n</table>\n<p>3 rows × 56 columns</p>\n</div>"
     },
     "execution_count": 6,
     "metadata": {},
     "output_type": "execute_result"
    }
   ],
   "source": [
    "unique_df"
   ],
   "metadata": {
    "collapsed": false
   }
  },
  {
   "cell_type": "code",
   "execution_count": 7,
   "outputs": [
    {
     "data": {
      "text/plain": "0                    https://order.jd.com/center\n1                    https://misc.360buyimg.com/\n2             https://storage.jd.com/retail-mall\n3                 https://misc.360buyimg.com/jdf\n4                  https://h5static.m.jd.com/act\n5              https://static.360buyimg.com/item\n6              https://misc.360buyimg.com/jd2008\n7                 https://misc.360buyimg.com/lib\n8              https://h5static.jd.com/informant\n9                https://misc.360buyimg.com/user\n10               https://static.360buyimg.com/im\n11                     https://payrisk.jd.com/js\n12             https://s.go-mpulse.net/boomerang\n13        https://img12.360buyimg.com/imagetools\n14                       https://wl.jd.com/wl.js\n15                     https://gia.jd.com/y.html\n16                  https://nfa.jd.com/loadFa.js\n17                https://mercury.jd.com/log.gif\n18             https://skunotify.jd.com/breakice\n19                   https://passport.jd.com/new\n20            https://api.m.jd.com/client.action\n21            https://mygiftcard.jd.com/giftcard\n22     https://quan.jd.com/getcouponcount.action\n23                     https://b-plus.jd.com/api\n24                   https://gia.jd.com/fcf.html\n25                   https://c.go-mpulse.net/api\n26                     https://gia.jd.com/r.html\n27                  https://passport.jd.com/user\n28                     https://order.jd.com/lazy\n29              https://club.jd.com/myJdcomments\n30    https://btshow.jd.com/queryBtOrderInfos.do\n31            https://ordergw.jd.com/orderCenter\n32             https://bugou.jd.com/isAllowBugou\n33                      https://chat1.jd.com/api\n34                      https://rtb-x.jd.com/swc\n35                      https://api.m.jd.com/api\n36                https://img10.360buyimg.com/N6\n37                https://img13.360buyimg.com/n2\n38                https://img10.360buyimg.com/n2\n39                https://img12.360buyimg.com/n2\n40                https://img11.360buyimg.com/n2\n41          https://club.jd.com/clubservice.aspx\n42                     https://knicks.jd.com/log\n43                           https://sh.jd.com/g\n44                https://club.jd.com/mycomments\n45                https://img10.360buyimg.com/n0\n46                        https://gias.jd.com/js\n47                      https://awcas.jd.com/api\n48                   https://h5speed.m.jd.com/v2\n49                https://diviner.jd.com/diviner\n50               https://club.jd.com/clubservice\n51                https://img10.360buyimg.com/n4\n52                https://img13.360buyimg.com/n4\n53                https://img12.360buyimg.com/n4\n54                https://img11.360buyimg.com/n4\n55                https://img14.360buyimg.com/n4\nName: 1, dtype: object"
     },
     "execution_count": 7,
     "metadata": {},
     "output_type": "execute_result"
    }
   ],
   "source": [
    "unique_df.iloc[1]"
   ],
   "metadata": {
    "collapsed": false
   }
  },
  {
   "cell_type": "code",
   "execution_count": 8,
   "outputs": [],
   "source": [
    "import ipinfo\n",
    "access_token = \"1e89ac79b18061\"\n",
    "handler = ipinfo.getHandler(access_token)\n",
    "unique_addresses = unique_df.iloc[2].dropna()"
   ],
   "metadata": {
    "collapsed": false
   }
  },
  {
   "cell_type": "code",
   "execution_count": 15,
   "outputs": [],
   "source": [
    "ip_geo = []\n",
    "addresses = []\n",
    "for address in unique_addresses:\n",
    "   if len(address) >3:\n",
    "      address = address.replace('[', '').replace(']', '')\n",
    "      addresses.append(address)\n",
    "      details = handler.getDetails(address)\n",
    "      new_geo = {'country' : details.country, 'city' : details.city}\n",
    "      ip_geo.append(new_geo)"
   ],
   "metadata": {
    "collapsed": false
   }
  },
  {
   "cell_type": "code",
   "execution_count": 19,
   "outputs": [
    {
     "data": {
      "text/plain": "[{'country': 'US', 'city': 'Chicago'},\n {'country': 'US', 'city': 'New York City'},\n {'country': 'US', 'city': 'Chicago'},\n {'country': 'US', 'city': 'Chicago'},\n {'country': 'US', 'city': 'Chicago'},\n {'country': 'US', 'city': 'Chicago'},\n {'country': 'CN', 'city': 'Beijing'},\n {'country': 'HK', 'city': 'Hong Kong'},\n {'country': 'US', 'city': 'Boston'},\n {'country': 'HK', 'city': 'Hong Kong'},\n {'country': 'HK', 'city': 'Hong Kong'},\n {'country': 'HK', 'city': 'Hong Kong'},\n {'country': 'HK', 'city': 'Hong Kong'},\n {'country': 'CN', 'city': 'Beijing'},\n {'country': 'US', 'city': 'Mount Prospect'},\n {'country': 'CN', 'city': 'Beijing'},\n {'country': 'CN', 'city': 'Guangzhou'},\n {'country': 'CN', 'city': 'Beijing'},\n {'country': 'CN', 'city': 'Beijing'},\n {'country': 'US', 'city': 'Chicago'},\n {'country': 'HK', 'city': 'Hong Kong'},\n {'country': 'CN', 'city': 'Beijing'},\n {'country': 'HK', 'city': 'Hong Kong'},\n {'country': 'HK', 'city': 'Hong Kong'}]"
     },
     "execution_count": 19,
     "metadata": {},
     "output_type": "execute_result"
    }
   ],
   "source": [
    "ip_geo"
   ],
   "metadata": {
    "collapsed": false
   }
  },
  {
   "cell_type": "code",
   "execution_count": 22,
   "outputs": [
    {
     "data": {
      "text/plain": "['23.56.99.80',\n '157.185.170.144',\n '157.185.179.142',\n '2600:1407:1d::685b:a6a3',\n '2600:1407:21:296::11a6',\n '2600:1407:a800::1737:dd9b',\n '124.250.18.194',\n '202.77.129.166',\n '157.185.163.113',\n '202.77.129.232',\n '202.77.129.92',\n '202.77.129.150',\n '202.77.129.185',\n '120.52.148.214',\n '2600:1407:e800:29b::11a6',\n '49.7.27.57',\n '111.13.29.172',\n '211.151.8.227',\n '36.110.181.170',\n '2600:1407:1d::685b:a68b',\n '202.77.129.223',\n '211.144.24.241',\n '202.77.132.86',\n '202.77.129.169']"
     },
     "execution_count": 22,
     "metadata": {},
     "output_type": "execute_result"
    }
   ],
   "source": [
    "addresses"
   ],
   "metadata": {
    "collapsed": false
   }
  },
  {
   "cell_type": "code",
   "execution_count": null,
   "outputs": [],
   "source": [],
   "metadata": {
    "collapsed": false
   }
  }
 ],
 "metadata": {
  "kernelspec": {
   "display_name": "Python 3",
   "language": "python",
   "name": "python3"
  },
  "language_info": {
   "codemirror_mode": {
    "name": "ipython",
    "version": 2
   },
   "file_extension": ".py",
   "mimetype": "text/x-python",
   "name": "python",
   "nbconvert_exporter": "python",
   "pygments_lexer": "ipython2",
   "version": "2.7.6"
  }
 },
 "nbformat": 4,
 "nbformat_minor": 0
}
